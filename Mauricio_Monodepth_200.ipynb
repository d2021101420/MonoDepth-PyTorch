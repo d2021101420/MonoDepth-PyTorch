{
  "nbformat": 4,
  "nbformat_minor": 0,
  "metadata": {
    "kernelspec": {
      "display_name": "Python 3",
      "language": "python",
      "name": "python3"
    },
    "language_info": {
      "codemirror_mode": {
        "name": "ipython",
        "version": 3
      },
      "file_extension": ".py",
      "mimetype": "text/x-python",
      "name": "python",
      "nbconvert_exporter": "python",
      "pygments_lexer": "ipython3",
      "version": "3.6.5"
    },
    "colab": {
      "name": "Mauricio Monodepth - 200.ipynb",
      "provenance": [],
      "collapsed_sections": [],
      "include_colab_link": true
    },
    "accelerator": "GPU"
  },
  "cells": [
    {
      "cell_type": "markdown",
      "metadata": {
        "id": "view-in-github",
        "colab_type": "text"
      },
      "source": [
        "<a href=\"https://colab.research.google.com/github/d2021101420/MonoDepth-PyTorch/blob/master/Mauricio_Monodepth_200.ipynb\" target=\"_parent\"><img src=\"https://colab.research.google.com/assets/colab-badge.svg\" alt=\"Open In Colab\"/></a>"
      ]
    },
    {
      "cell_type": "code",
      "metadata": {
        "colab": {
          "base_uri": "https://localhost:8080/"
        },
        "id": "klLWsDA_Ka8u",
        "outputId": "b0b9519d-2547-4e51-c721-3b2759e95458"
      },
      "source": [
        "# clone do meu repositorio editado de https://github.com/OniroAI/MonoDepth-PyTorch\n",
        "!git clone https://github.com/d2021101420/MonoDepth-PyTorch"
      ],
      "execution_count": null,
      "outputs": [
        {
          "output_type": "stream",
          "text": [
            "Cloning into 'MonoDepth-PyTorch'...\n",
            "remote: Enumerating objects: 208, done.\u001b[K\n",
            "remote: Counting objects: 100% (15/15), done.\u001b[K\n",
            "remote: Compressing objects: 100% (15/15), done.\u001b[K\n",
            "remote: Total 208 (delta 6), reused 0 (delta 0), pack-reused 193\u001b[K\n",
            "Receiving objects: 100% (208/208), 34.60 MiB | 30.39 MiB/s, done.\n",
            "Resolving deltas: 100% (112/112), done.\n"
          ],
          "name": "stdout"
        }
      ]
    },
    {
      "cell_type": "code",
      "metadata": {
        "id": "GC50nL1rK12F",
        "colab": {
          "base_uri": "https://localhost:8080/"
        },
        "outputId": "5f85569a-c397-4b57-d2ae-7f652b71e1b8"
      },
      "source": [
        "%cd MonoDepth-PyTorch/"
      ],
      "execution_count": null,
      "outputs": [
        {
          "output_type": "stream",
          "text": [
            "/content/MonoDepth-PyTorch\n"
          ],
          "name": "stdout"
        }
      ]
    },
    {
      "cell_type": "code",
      "metadata": {
        "id": "4ZmIjfW8WpQ0"
      },
      "source": [
        "#Apagar dataset original\n",
        "#!rm kitti_archives_to_download.txt\n",
        "#Carregar arquivo com indice de datasets\n",
        "#from google.colab import files\n",
        "#files.upload()"
      ],
      "execution_count": null,
      "outputs": []
    },
    {
      "cell_type": "code",
      "metadata": {
        "colab": {
          "base_uri": "https://localhost:8080/"
        },
        "id": "ux6avWARU9mH",
        "outputId": "9dadf029-f0e0-4fc1-bb10-ae36d8f434f5"
      },
      "source": [
        "!mkdir data\n",
        "%cd data\n",
        "!mkdir models\n",
        "%cd models\n",
        "!pwd"
      ],
      "execution_count": null,
      "outputs": [
        {
          "output_type": "stream",
          "text": [
            "/content/MonoDepth-PyTorch/data\n",
            "/content/MonoDepth-PyTorch/data/models\n",
            "/content/MonoDepth-PyTorch/data/models\n"
          ],
          "name": "stdout"
        }
      ]
    },
    {
      "cell_type": "code",
      "metadata": {
        "colab": {
          "base_uri": "https://localhost:8080/",
          "height": 106
        },
        "id": "hNbJPQsFm2pF",
        "outputId": "22518b73-ed97-439f-a35a-fb89d651526e"
      },
      "source": [
        "#Carregar modelo do meu drive\n",
        "\n",
        "\n",
        "#!wget https://p-def6.pcloud.com/cBZcIboSHZMPuC9HZZZDTMLv7Z2ZZfLRZkZkCcA0ZskZE5ZqXZqHZ10Z5kZHZI7ZoFZ8VZS7ZwVZb0ZYXZb5r97Z8VQ93u4jwMpRRuv6zpzmoHFV8cIV/monodepth_resnet18_001.pth -P ~/data/models\n",
        "\n",
        "import gdown\n",
        "url='https://drive.google.com//uc?id=1n6_RqYurD8-EqY121uSyWZUwWHQX-mPG'\n",
        "output='monodepth_resnet18_001.pth'\n",
        "#time.sleep(100)\n",
        "gdown.download(url, output, quiet=False)\n",
        "#!gdown --id https://drive.google.com/file/d/1n6_RqYurD8-EqY121uSyWZUwWHQX-mPG\n",
        "#from google.colab import files\n",
        "#files.upload()"
      ],
      "execution_count": null,
      "outputs": [
        {
          "output_type": "stream",
          "text": [
            "Downloading...\n",
            "From: https://drive.google.com//uc?id=1n6_RqYurD8-EqY121uSyWZUwWHQX-mPG\n",
            "To: /content/MonoDepth-PyTorch/data/models/monodepth_resnet18_001.pth\n",
            "81.0MB [00:00, 119MB/s]\n"
          ],
          "name": "stderr"
        },
        {
          "output_type": "execute_result",
          "data": {
            "application/vnd.google.colaboratory.intrinsic+json": {
              "type": "string"
            },
            "text/plain": [
              "'monodepth_resnet18_001.pth'"
            ]
          },
          "metadata": {
            "tags": []
          },
          "execution_count": 5
        }
      ]
    },
    {
      "cell_type": "code",
      "metadata": {
        "colab": {
          "base_uri": "https://localhost:8080/"
        },
        "id": "M0sQTgplWVt8",
        "outputId": "ad19720a-e387-42f9-cfef-bf9587a76316"
      },
      "source": [
        "#verificar carga do modelo\n",
        "\n",
        "!ls -l "
      ],
      "execution_count": null,
      "outputs": [
        {
          "output_type": "stream",
          "text": [
            "total 79132\n",
            "-rw-r--r-- 1 root root 81027095 Jun 21 19:11 monodepth_resnet18_001.pth\n"
          ],
          "name": "stdout"
        }
      ]
    },
    {
      "cell_type": "markdown",
      "metadata": {
        "id": "xuDY6jnDPsSm"
      },
      "source": [
        ""
      ]
    },
    {
      "cell_type": "code",
      "metadata": {
        "id": "JFyxSEtgsqey",
        "colab": {
          "base_uri": "https://localhost:8080/"
        },
        "outputId": "1d80fd7a-e7cd-493d-a2c6-5c80e970546b"
      },
      "source": [
        "#alterar para o diretorio do modelo\n",
        "%cd /content/MonoDepth-PyTorch/"
      ],
      "execution_count": null,
      "outputs": [
        {
          "output_type": "stream",
          "text": [
            "/content/MonoDepth-PyTorch\n"
          ],
          "name": "stdout"
        }
      ]
    },
    {
      "cell_type": "markdown",
      "metadata": {
        "id": "_5W1WS1cCLyo"
      },
      "source": [
        "## Train"
      ]
    },
    {
      "cell_type": "markdown",
      "metadata": {
        "id": "fTs5uaAPCLyp"
      },
      "source": [
        "Check if CUDA is available"
      ]
    },
    {
      "cell_type": "code",
      "metadata": {
        "id": "Ds64NN6U4iXi"
      },
      "source": [
        "import os\n",
        "import torch\n",
        "import numpy as np\n",
        "import skimage.transform\n",
        "import matplotlib.pyplot as plt\n",
        "from easydict import EasyDict as edict\n",
        "\n",
        "from main_monodepth_pytorch import Model\n",
        "%reload_ext autoreload\n",
        "%autoreload 2"
      ],
      "execution_count": null,
      "outputs": []
    },
    {
      "cell_type": "code",
      "metadata": {
        "id": "RdqQcC_4CLyq",
        "colab": {
          "base_uri": "https://localhost:8080/"
        },
        "outputId": "999f44dc-d277-469f-8de4-dfe72075c18f"
      },
      "source": [
        "torch.cuda.is_available()"
      ],
      "execution_count": null,
      "outputs": [
        {
          "output_type": "execute_result",
          "data": {
            "text/plain": [
              "True"
            ]
          },
          "metadata": {
            "tags": []
          },
          "execution_count": 9
        }
      ]
    },
    {
      "cell_type": "code",
      "metadata": {
        "id": "ZNNRc0FbCLyr",
        "colab": {
          "base_uri": "https://localhost:8080/"
        },
        "outputId": "bb58a2e6-c950-42d0-f2cc-de88087d849b"
      },
      "source": [
        "torch.cuda.device_count()"
      ],
      "execution_count": null,
      "outputs": [
        {
          "output_type": "execute_result",
          "data": {
            "text/plain": [
              "1"
            ]
          },
          "metadata": {
            "tags": []
          },
          "execution_count": 10
        }
      ]
    },
    {
      "cell_type": "code",
      "metadata": {
        "id": "INgQSESbCLys"
      },
      "source": [
        "torch.cuda.empty_cache()"
      ],
      "execution_count": null,
      "outputs": []
    },
    {
      "cell_type": "markdown",
      "metadata": {
        "id": "XEuqILQ7nLwB"
      },
      "source": [
        "IMPORTAÇÃO DOS DATASETs de Treinamento, Validação e testes\n",
        "\n",
        "Dataset escolhido = Mid-Air, The Montefiore Institute Dataset of Aerial Images and Records\n",
        "\n",
        "https://midair.ulg.ac.be/\n",
        "\n",
        "When using this dataset in your research, we would appreciate that you cite our CVPRW paper:\n",
        "\n",
        "@INPROCEEDINGS{Fonder2019MidAir,\n",
        "author = {Michael Fonder and Marc Van Droogenbroeck},\n",
        "title = {Mid-Air: A multi-modal dataset for extremely low altitude drone flights},\n",
        "booktitle = {Conference on Computer Vision and Pattern Recognition Workshop (CVPRW)},\n",
        "year = {2019},\n",
        "month = {June}\n",
        "}\n"
      ]
    },
    {
      "cell_type": "markdown",
      "metadata": {
        "id": "28OCBTxi8KGP"
      },
      "source": [
        "OBS: Devido às limitações de espaço no Google Colab, foi necessário realizar diversas rodadas de importação do Dataset, usando o espaço de armazenamento do Google Drive, estas etapas de download, unzip e organização de diretórios foram removidas deste código para melhor visualização.\n"
      ]
    },
    {
      "cell_type": "code",
      "metadata": {
        "colab": {
          "base_uri": "https://localhost:8080/"
        },
        "id": "9N5cdmS2er8D",
        "outputId": "4bde7463-750f-4ac8-d61f-3ada38cfe1cb"
      },
      "source": [
        "# Conexão com o Google Drive para acesso ao Dataset e gravação de resultados \n",
        "\n",
        "\n",
        "from google.colab import drive\n",
        "drive.mount('/content/drive/', force_remount=True)\n",
        "\n"
      ],
      "execution_count": null,
      "outputs": [
        {
          "output_type": "stream",
          "text": [
            "Mounted at /content/drive/\n"
          ],
          "name": "stdout"
        }
      ]
    },
    {
      "cell_type": "code",
      "metadata": {
        "colab": {
          "base_uri": "https://localhost:8080/"
        },
        "id": "qGZq1FU78nfC",
        "outputId": "1e245366-7fc4-4550-ad8f-e7ff9d81345f"
      },
      "source": [
        "# Teste para verificar acesso ao dataset no Colab\n",
        "!ls -l /content/drive/MyDrive/MIDAIR/train/color_right/"
      ],
      "execution_count": null,
      "outputs": [
        {
          "output_type": "stream",
          "text": [
            "ls: cannot access '/content/drive/MyDrive/MIDAIR/train/color_right/': No such file or directory\n"
          ],
          "name": "stdout"
        }
      ]
    },
    {
      "cell_type": "code",
      "metadata": {
        "id": "q2x0owWBCLyu"
      },
      "source": [
        "# definição dos parametros de treinamento\n",
        "\n",
        "dict_parameters = edict({'data_dir':'/content/drive/MyDrive/MIDAIR/train/',\n",
        "                         'val_data_dir':'/content/drive/MyDrive/MIDAIR/val/',\n",
        "                         'model_path':'/content/MonoDepth-PyTorch/data/models/monodepth_resnet18_001.pth',\n",
        "                         'output_directory':'/content/drive/MyDrive/MIDAIR/output/',\n",
        "                         'input_height':256,\n",
        "                         'input_width':512,\n",
        "                         'model':'resnet18_md',\n",
        "                         'pretrained':True,\n",
        "                         'mode':'train',\n",
        "                         'epochs':200, \n",
        "                         'learning_rate':1e-4,\n",
        "                         'batch_size': 2,  #8\n",
        "                         'adjust_lr':True,\n",
        "                         'device':'cuda:0',\n",
        "                         'do_augmentation':True,\n",
        "                         'augment_parameters':[0.8, 1.2, 0.5, 2.0, 0.8, 1.2],\n",
        "                         'print_images':False,\n",
        "                         'print_weights':False,\n",
        "                         'input_channels': 3,\n",
        "                         'num_workers': 8,\n",
        "                         'use_multiple_gpu': False})"
      ],
      "execution_count": null,
      "outputs": []
    },
    {
      "cell_type": "code",
      "metadata": {
        "id": "QBFsxTV6CLyx",
        "colab": {
          "base_uri": "https://localhost:8080/"
        },
        "outputId": "fa8b34b3-316c-4969-998a-cad9cc470be8"
      },
      "source": [
        "# carga do modelo\n",
        "model = Model(dict_parameters)\n",
        "model.load('/content/MonoDepth-PyTorch/data/models/monodepth_resnet18_001.pth')"
      ],
      "execution_count": null,
      "outputs": [
        {
          "output_type": "stream",
          "text": [
            "Use a dataset with 2205 images\n"
          ],
          "name": "stdout"
        },
        {
          "output_type": "stream",
          "text": [
            "/usr/local/lib/python3.7/dist-packages/torch/utils/data/dataloader.py:481: UserWarning: This DataLoader will create 8 worker processes in total. Our suggested max number of worker in current system is 2, which is smaller than what this DataLoader is going to create. Please be aware that excessive worker creation might get DataLoader running slow or even freeze, lower the worker number to avoid potential slowness/freeze if necessary.\n",
            "  cpuset_checked))\n"
          ],
          "name": "stderr"
        },
        {
          "output_type": "stream",
          "text": [
            "Use a dataset with 2206 images\n"
          ],
          "name": "stdout"
        }
      ]
    },
    {
      "cell_type": "code",
      "metadata": {
        "scrolled": true,
        "id": "eHK0JfbfCLyy",
        "colab": {
          "base_uri": "https://localhost:8080/",
          "height": 0
        },
        "outputId": "7b244085-7ac4-49d8-bc63-2739b3491f89"
      },
      "source": [
        "# Treinamento do modelo com os parametros especificados\n",
        "model.train()"
      ],
      "execution_count": null,
      "outputs": [
        {
          "output_type": "stream",
          "text": [
            "/usr/local/lib/python3.7/dist-packages/torch/utils/data/dataloader.py:481: UserWarning: This DataLoader will create 8 worker processes in total. Our suggested max number of worker in current system is 2, which is smaller than what this DataLoader is going to create. Please be aware that excessive worker creation might get DataLoader running slow or even freeze, lower the worker number to avoid potential slowness/freeze if necessary.\n",
            "  cpuset_checked))\n",
            "/usr/local/lib/python3.7/dist-packages/torch/nn/functional.py:718: UserWarning: Named tensors and all their associated APIs are an experimental feature and subject to change. Please do not use them for anything important until they are released as stable. (Triggered internally at  /pytorch/c10/core/TensorImpl.h:1156.)\n",
            "  return torch.max_pool2d(input, kernel_size, stride, padding, dilation, ceil_mode)\n",
            "/usr/local/lib/python3.7/dist-packages/torch/nn/functional.py:3982: UserWarning: Default grid_sample and affine_grid behavior has changed to align_corners=False since 1.3.0. Please specify align_corners=True if the old behavior is desired. See the documentation of grid_sample for details.\n",
            "  \"Default grid_sample and affine_grid behavior has changed \"\n"
          ],
          "name": "stderr"
        },
        {
          "output_type": "stream",
          "text": [
            "Val_loss: 1.4933506832101178\n",
            "Epoch: 1 train_loss: 1.0793556734473728 val_loss: 1.6680361463369426 time: 407.137 s\n",
            "Model_saved\n",
            "Epoch: 2 train_loss: 1.027305135619932 val_loss: 1.6974703065392112 time: 393.748 s\n",
            "Epoch: 3 train_loss: 1.000401922982061 val_loss: 1.6921991800234701 time: 393.82 s\n",
            "Epoch: 4 train_loss: 0.9901972546268353 val_loss: 1.7154429065397268 time: 392.33 s\n",
            "Epoch: 5 train_loss: 0.9651886437118647 val_loss: 1.7000162104089784 time: 391.744 s\n",
            "Epoch: 6 train_loss: 0.9621686331812944 val_loss: 1.7285687011385722 time: 391.483 s\n",
            "Epoch: 7 train_loss: 0.9499079134392933 val_loss: 1.7665646745504435 time: 391.355 s\n",
            "Epoch: 8 train_loss: 0.9491470688219408 val_loss: 1.7532516434079124 time: 394.295 s\n",
            "Epoch: 9 train_loss: 0.9384023975428947 val_loss: 1.7585994162527072 time: 398.042 s\n",
            "Epoch: 10 train_loss: 0.9254485166894233 val_loss: 1.7863641995151027 time: 394.693 s\n",
            "Epoch: 11 train_loss: 0.9235881428527271 val_loss: 1.7760095031893983 time: 394.943 s\n",
            "Epoch: 12 train_loss: 0.9159495979817694 val_loss: 1.7834948428363757 time: 396.512 s\n",
            "Epoch: 13 train_loss: 0.9156984769800849 val_loss: 1.8173995394285034 time: 394.491 s\n",
            "Epoch: 14 train_loss: 0.9143364341931244 val_loss: 1.8098999055875402 time: 394.994 s\n",
            "Epoch: 15 train_loss: 0.9049411802160016 val_loss: 1.783419923176841 time: 397.626 s\n",
            "Epoch: 16 train_loss: 0.9040018603516403 val_loss: 1.7737555088640071 time: 395.291 s\n",
            "Epoch: 17 train_loss: 0.9103909659445124 val_loss: 1.7916940218737336 time: 396.273 s\n",
            "Epoch: 18 train_loss: 0.8992023807245282 val_loss: 1.8116206785448554 time: 394.749 s\n",
            "Epoch: 19 train_loss: 0.9068563641576689 val_loss: 1.8158479415910855 time: 392.567 s\n",
            "Epoch: 20 train_loss: 0.8903944327657264 val_loss: 1.7994179082295252 time: 389.477 s\n",
            "Epoch: 21 train_loss: 0.8940400281686298 val_loss: 1.7988033587700114 time: 392.3 s\n",
            "Epoch: 22 train_loss: 0.8847739504125047 val_loss: 1.8153931503122895 time: 393.183 s\n",
            "Epoch: 23 train_loss: 0.8918073027515454 val_loss: 1.811436983138796 time: 388.192 s\n",
            "Epoch: 24 train_loss: 0.8752467958687223 val_loss: 1.7845601872251688 time: 391.446 s\n",
            "Epoch: 25 train_loss: 0.8770193487324719 val_loss: 1.7663028123427411 time: 390.445 s\n",
            "Epoch: 26 train_loss: 0.87959618124763 val_loss: 1.8311034732394749 time: 390.036 s\n",
            "Epoch: 27 train_loss: 0.8769972275196155 val_loss: 1.7769091959713268 time: 389.501 s\n",
            "Epoch: 28 train_loss: 0.8730478881843935 val_loss: 1.7773201624552408 time: 389.343 s\n",
            "Epoch: 29 train_loss: 0.8715213934940743 val_loss: 1.8034324627614615 time: 392.061 s\n"
          ],
          "name": "stdout"
        }
      ]
    },
    {
      "cell_type": "markdown",
      "metadata": {
        "id": "x9iJ8AgwCLyz"
      },
      "source": [
        "## Test the model"
      ]
    },
    {
      "cell_type": "code",
      "metadata": {
        "id": "6zyOG8I8yMlQ"
      },
      "source": [
        "# Verificar o acesso aos dados de teste do modelo\n",
        "\n",
        "!ls /content/drive/MyDrive/MIDAIR/test"
      ],
      "execution_count": null,
      "outputs": []
    },
    {
      "cell_type": "code",
      "metadata": {
        "id": "wNZHEI3oCLy0"
      },
      "source": [
        "#Definição dos parametros de teste\n",
        "\n",
        "dict_parameters_test = edict({'data_dir':'/content/drive/MyDrive/MIDAIR/test',\n",
        "                              'model_path':'/content/MonoDepth-PyTorch/data/models/monodepth_resnet18_001_cpt.pth',\n",
        "                              'output_directory':'/content/drive/MyDrive/MIDAIR/output',\n",
        "                              'input_height':256,\n",
        "                              'input_width':512,\n",
        "                              'model':'resnet18_md',\n",
        "                              'pretrained':False,\n",
        "                              'mode':'test',\n",
        "                              'device':'cuda:0',\n",
        "                              'input_channels':3,\n",
        "                              'num_workers':4,\n",
        "                              'use_multiple_gpu':False})\n",
        "model_test = Model(dict_parameters_test)"
      ],
      "execution_count": null,
      "outputs": []
    },
    {
      "cell_type": "code",
      "metadata": {
        "id": "ubaiNQ-vCLy1"
      },
      "source": [
        "#Execução do teste do modelo\n",
        "model_test.test()"
      ],
      "execution_count": null,
      "outputs": []
    },
    {
      "cell_type": "code",
      "metadata": {
        "id": "pBW8iT0OCLy2"
      },
      "source": [
        "# Salvar o NumPy array file (parametros do modelo treinado)\n",
        "\n",
        "disp = np.load('/content/drive/MyDrive/MIDAIR/output/disparities.npy')  # Or disparities.npy for output without post-processing\n",
        "disp.shape"
      ],
      "execution_count": null,
      "outputs": []
    },
    {
      "cell_type": "code",
      "metadata": {
        "id": "ql6y0QcmCLy2"
      },
      "source": [
        "#Exibir imagem de teste em formato \"Plasma\"\n",
        "disp_to_img = skimage.transform.resize(disp[0].squeeze(), [375, 1242], mode='constant')\n",
        "plt.imshow(disp_to_img, cmap='plasma')"
      ],
      "execution_count": null,
      "outputs": []
    },
    {
      "cell_type": "markdown",
      "metadata": {
        "id": "2ovCDi8ZCLy3"
      },
      "source": [
        "Save a color image"
      ]
    },
    {
      "cell_type": "code",
      "metadata": {
        "id": "NBLbyEW-CLy3"
      },
      "source": [
        "#salvar imagem de teste em formato \"Plasma\"\n",
        "\n",
        "\n",
        "\n",
        "plt.imsave(os.path.join(dict_parameters_test.output_directory,\n",
        "                        dict_parameters_test.model_path.split('/')[-1][:-4]+'_test_output.png'), disp_to_img, cmap='plasma')"
      ],
      "execution_count": null,
      "outputs": []
    },
    {
      "cell_type": "markdown",
      "metadata": {
        "id": "R2ACwjnjCLy4"
      },
      "source": [
        "Save all test images"
      ]
    },
    {
      "cell_type": "code",
      "metadata": {
        "id": "WiEL04eyCLy5"
      },
      "source": [
        "#Salvar todas as imagens geradas no teste\n",
        "\n",
        "for i in range(disp.shape[0]):\n",
        "    disp_to_img = skimage.transform.resize(disp[i].squeeze(), [375, 1242], mode='constant')\n",
        "    plt.imsave(os.path.join(dict_parameters_test.output_directory,\n",
        "               'pred_'+str(i)+'.png'), disp_to_img, cmap='plasma')"
      ],
      "execution_count": null,
      "outputs": []
    },
    {
      "cell_type": "markdown",
      "metadata": {
        "id": "nudGa2KoCLy5"
      },
      "source": [
        "Save a grayscale image"
      ]
    },
    {
      "cell_type": "code",
      "metadata": {
        "id": "p2kExmebCLy6"
      },
      "source": [
        "#Salvar uma imagem de teste como escala de cinzaplt.imsave(os.path.join(dict_parameters_test.output_directory,\n",
        "                        dict_parameters_test.model_path.split('/')[-1][:-4]+'_gray.png'), disp_to_img, cmap='gray')"
      ],
      "execution_count": null,
      "outputs": []
    },
    {
      "cell_type": "code",
      "metadata": {
        "id": "ft9yP-POCLy6"
      },
      "source": [
        "\n"
      ],
      "execution_count": null,
      "outputs": []
    }
  ]
}